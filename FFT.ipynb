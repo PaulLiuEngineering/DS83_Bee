{
 "cells": [
  {
   "cell_type": "code",
   "execution_count": 23,
   "metadata": {
    "collapsed": true
   },
   "outputs": [],
   "source": [
    "import scipy\n",
    "import matplotlib.pyplot as plt\n",
    "from scipy import signal\n",
    "from scipy.io import wavfile\n",
    "import numpy as np"
   ]
  },
  {
   "cell_type": "code",
   "execution_count": 34,
   "metadata": {},
   "outputs": [
    {
     "name": "stderr",
     "output_type": "stream",
     "text": [
      "/Users/paulliu/anaconda3/lib/python3.6/site-packages/scipy/signal/spectral.py:1785: UserWarning: nperseg = 256 is greater than input length  = 2, using nperseg = 2\n",
      "  .format(nperseg, input_length))\n"
     ]
    },
    {
     "name": "stdout",
     "output_type": "stream",
     "text": [
      "[    0. 16000.] \n",
      " [0.000e+00 3.125e-05 6.250e-05] \n",
      " [[[    0.+0.j     0.+0.j     0.+0.j]\n",
      "  [    0.+0.j     0.+0.j     0.+0.j]]\n",
      "\n",
      " [[    0.+0.j     0.+0.j     0.+0.j]\n",
      "  [    0.+0.j     0.+0.j     0.+0.j]]\n",
      "\n",
      " [[    0.+0.j     0.+0.j     0.+0.j]\n",
      "  [    0.+0.j     0.+0.j     0.+0.j]]\n",
      "\n",
      " ...\n",
      "\n",
      " [[ -965.+0.j  -905.+0.j     0.+0.j]\n",
      "  [  965.+0.j   905.+0.j    -0.+0.j]]\n",
      "\n",
      " [[-1083.+0.j  -915.+0.j     0.+0.j]\n",
      "  [ 1083.+0.j   915.+0.j    -0.+0.j]]\n",
      "\n",
      " [[-1327.+0.j -1140.+0.j     0.+0.j]\n",
      "  [ 1327.+0.j  1140.+0.j    -0.+0.j]]]\n",
      "<class 'numpy.ndarray'> <class 'numpy.ndarray'> <class 'numpy.ndarray'>\n"
     ]
    }
   ],
   "source": [
    "sample_rate, samples = wavfile.read('BeeAudio1.wav')\n",
    "f, t, Zxx = signal.stft(samples, fs = sample_rate)\n",
    "print(f,'\\n', t,'\\n',Zxx)\n",
    "# frequencies, times, spectrogram = signal.spectrogram(samples, sample_rate\n",
    "Zxx_abs = np.abs(Zxx)\n",
    "print(type(f), type(t), type(Zxx))"
   ]
  },
  {
   "cell_type": "code",
   "execution_count": 39,
   "metadata": {},
   "outputs": [
    {
     "data": {
      "text/plain": [
       "dtype('int16')"
      ]
     },
     "execution_count": 39,
     "metadata": {},
     "output_type": "execute_result"
    }
   ],
   "source": [
    "# plt.pcolormesh(t, f, Zxx_abs,vmin = 0, vmax = 2 * np.sqrt(2))\n",
    "# plt.ylabel('Frequency [Hz]')\n",
    "# plt.xlabel('Time [sec]')\n",
    "# plt.show()\n",
    "samples.dtype"
   ]
  },
  {
   "cell_type": "code",
   "execution_count": 13,
   "metadata": {},
   "outputs": [
    {
     "name": "stdout",
     "output_type": "stream",
     "text": [
      "(19200000, 2)\n",
      "19200000.0\n",
      "600.0\n"
     ]
    }
   ],
   "source": [
    "samples = samples / (2.**15)\n",
    "sample_shape = samples.shape\n",
    "samplePoints = float(samples.shape[0])\n",
    "# print(samples/(2.**15))\n",
    "print(sample_shape)\n",
    "print(samplePoints)\n",
    "duration = samplePoints/sample_rate\n",
    "print(duration)"
   ]
  },
  {
   "cell_type": "code",
   "execution_count": 40,
   "metadata": {},
   "outputs": [
    {
     "name": "stdout",
     "output_type": "stream",
     "text": [
      "[    0     0     0 ...  -965 -1083 -1327]\n"
     ]
    }
   ],
   "source": [
    "sound_mono = samples[:,0]\n",
    "print(sound_mono)"
   ]
  },
  {
   "cell_type": "code",
   "execution_count": null,
   "metadata": {
    "collapsed": true
   },
   "outputs": [],
   "source": []
  }
 ],
 "metadata": {
  "kernelspec": {
   "display_name": "Python 3",
   "language": "python",
   "name": "python3"
  },
  "language_info": {
   "codemirror_mode": {
    "name": "ipython",
    "version": 3
   },
   "file_extension": ".py",
   "mimetype": "text/x-python",
   "name": "python",
   "nbconvert_exporter": "python",
   "pygments_lexer": "ipython3",
   "version": "3.6.2"
  }
 },
 "nbformat": 4,
 "nbformat_minor": 2
}
