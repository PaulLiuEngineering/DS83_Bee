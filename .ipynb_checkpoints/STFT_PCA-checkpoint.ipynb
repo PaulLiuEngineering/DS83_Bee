{
 "cells": [
  {
   "cell_type": "code",
   "execution_count": 2,
   "metadata": {
    "collapsed": true
   },
   "outputs": [],
   "source": [
    "import scipy\n",
    "import matplotlib.pyplot as plt\n",
    "from scipy import signal\n",
    "from scipy.io import wavfile\n",
    "import numpy as np"
   ]
  },
  {
   "cell_type": "code",
   "execution_count": 16,
   "metadata": {},
   "outputs": [
    {
     "name": "stdout",
     "output_type": "stream",
     "text": [
      "[[    0     0]\n",
      " [    0     0]\n",
      " [    0     0]\n",
      " ...\n",
      " [ -965  -905]\n",
      " [-1083  -915]\n",
      " [-1327 -1140]]\n",
      "[    0     0     0 ...  -965 -1083 -1327] 32000\n",
      "[    0.      31.25    62.5     93.75   125.     156.25   187.5    218.75\n",
      "   250.     281.25   312.5    343.75   375.     406.25   437.5    468.75\n",
      "   500.     531.25   562.5    593.75   625.     656.25   687.5    718.75\n",
      "   750.     781.25   812.5    843.75   875.     906.25   937.5    968.75\n",
      "  1000.    1031.25  1062.5   1093.75  1125.    1156.25  1187.5   1218.75\n",
      "  1250.    1281.25  1312.5   1343.75  1375.    1406.25  1437.5   1468.75\n",
      "  1500.    1531.25  1562.5   1593.75  1625.    1656.25  1687.5   1718.75\n",
      "  1750.    1781.25  1812.5   1843.75  1875.    1906.25  1937.5   1968.75\n",
      "  2000.    2031.25  2062.5   2093.75  2125.    2156.25  2187.5   2218.75\n",
      "  2250.    2281.25  2312.5   2343.75  2375.    2406.25  2437.5   2468.75\n",
      "  2500.    2531.25  2562.5   2593.75  2625.    2656.25  2687.5   2718.75\n",
      "  2750.    2781.25  2812.5   2843.75  2875.    2906.25  2937.5   2968.75\n",
      "  3000.    3031.25  3062.5   3093.75  3125.    3156.25  3187.5   3218.75\n",
      "  3250.    3281.25  3312.5   3343.75  3375.    3406.25  3437.5   3468.75\n",
      "  3500.    3531.25  3562.5   3593.75  3625.    3656.25  3687.5   3718.75\n",
      "  3750.    3781.25  3812.5   3843.75  3875.    3906.25  3937.5   3968.75\n",
      "  4000.    4031.25  4062.5   4093.75  4125.    4156.25  4187.5   4218.75\n",
      "  4250.    4281.25  4312.5   4343.75  4375.    4406.25  4437.5   4468.75\n",
      "  4500.    4531.25  4562.5   4593.75  4625.    4656.25  4687.5   4718.75\n",
      "  4750.    4781.25  4812.5   4843.75  4875.    4906.25  4937.5   4968.75\n",
      "  5000.    5031.25  5062.5   5093.75  5125.    5156.25  5187.5   5218.75\n",
      "  5250.    5281.25  5312.5   5343.75  5375.    5406.25  5437.5   5468.75\n",
      "  5500.    5531.25  5562.5   5593.75  5625.    5656.25  5687.5   5718.75\n",
      "  5750.    5781.25  5812.5   5843.75  5875.    5906.25  5937.5   5968.75\n",
      "  6000.    6031.25  6062.5   6093.75  6125.    6156.25  6187.5   6218.75\n",
      "  6250.    6281.25  6312.5   6343.75  6375.    6406.25  6437.5   6468.75\n",
      "  6500.    6531.25  6562.5   6593.75  6625.    6656.25  6687.5   6718.75\n",
      "  6750.    6781.25  6812.5   6843.75  6875.    6906.25  6937.5   6968.75\n",
      "  7000.    7031.25  7062.5   7093.75  7125.    7156.25  7187.5   7218.75\n",
      "  7250.    7281.25  7312.5   7343.75  7375.    7406.25  7437.5   7468.75\n",
      "  7500.    7531.25  7562.5   7593.75  7625.    7656.25  7687.5   7718.75\n",
      "  7750.    7781.25  7812.5   7843.75  7875.    7906.25  7937.5   7968.75\n",
      "  8000.    8031.25  8062.5   8093.75  8125.    8156.25  8187.5   8218.75\n",
      "  8250.    8281.25  8312.5   8343.75  8375.    8406.25  8437.5   8468.75\n",
      "  8500.    8531.25  8562.5   8593.75  8625.    8656.25  8687.5   8718.75\n",
      "  8750.    8781.25  8812.5   8843.75  8875.    8906.25  8937.5   8968.75\n",
      "  9000.    9031.25  9062.5   9093.75  9125.    9156.25  9187.5   9218.75\n",
      "  9250.    9281.25  9312.5   9343.75  9375.    9406.25  9437.5   9468.75\n",
      "  9500.    9531.25  9562.5   9593.75  9625.    9656.25  9687.5   9718.75\n",
      "  9750.    9781.25  9812.5   9843.75  9875.    9906.25  9937.5   9968.75\n",
      " 10000.   10031.25 10062.5  10093.75 10125.   10156.25 10187.5  10218.75\n",
      " 10250.   10281.25 10312.5  10343.75 10375.   10406.25 10437.5  10468.75\n",
      " 10500.   10531.25 10562.5  10593.75 10625.   10656.25 10687.5  10718.75\n",
      " 10750.   10781.25 10812.5  10843.75 10875.   10906.25 10937.5  10968.75\n",
      " 11000.   11031.25 11062.5  11093.75 11125.   11156.25 11187.5  11218.75\n",
      " 11250.   11281.25 11312.5  11343.75 11375.   11406.25 11437.5  11468.75\n",
      " 11500.   11531.25 11562.5  11593.75 11625.   11656.25 11687.5  11718.75\n",
      " 11750.   11781.25 11812.5  11843.75 11875.   11906.25 11937.5  11968.75\n",
      " 12000.   12031.25 12062.5  12093.75 12125.   12156.25 12187.5  12218.75\n",
      " 12250.   12281.25 12312.5  12343.75 12375.   12406.25 12437.5  12468.75\n",
      " 12500.   12531.25 12562.5  12593.75 12625.   12656.25 12687.5  12718.75\n",
      " 12750.   12781.25 12812.5  12843.75 12875.   12906.25 12937.5  12968.75\n",
      " 13000.   13031.25 13062.5  13093.75 13125.   13156.25 13187.5  13218.75\n",
      " 13250.   13281.25 13312.5  13343.75 13375.   13406.25 13437.5  13468.75\n",
      " 13500.   13531.25 13562.5  13593.75 13625.   13656.25 13687.5  13718.75\n",
      " 13750.   13781.25 13812.5  13843.75 13875.   13906.25 13937.5  13968.75\n",
      " 14000.   14031.25 14062.5  14093.75 14125.   14156.25 14187.5  14218.75\n",
      " 14250.   14281.25 14312.5  14343.75 14375.   14406.25 14437.5  14468.75\n",
      " 14500.   14531.25 14562.5  14593.75 14625.   14656.25 14687.5  14718.75\n",
      " 14750.   14781.25 14812.5  14843.75 14875.   14906.25 14937.5  14968.75\n",
      " 15000.   15031.25 15062.5  15093.75 15125.   15156.25 15187.5  15218.75\n",
      " 15250.   15281.25 15312.5  15343.75 15375.   15406.25 15437.5  15468.75\n",
      " 15500.   15531.25 15562.5  15593.75 15625.   15656.25 15687.5  15718.75\n",
      " 15750.   15781.25 15812.5  15843.75 15875.   15906.25 15937.5  15968.75\n",
      " 16000.  ] \n",
      " [0.0000e+00 1.0000e-02 2.0000e-02 ... 5.9998e+02 5.9999e+02 6.0000e+02] \n",
      " [[ 0.0000000e+00+0.0000000e+00j  3.1359107e-08+0.0000000e+00j\n",
      "   1.1320186e-04+0.0000000e+00j ...  5.0599156e-03+0.0000000e+00j\n",
      "   5.9025828e-03+0.0000000e+00j -1.7594337e-02+0.0000000e+00j]\n",
      " [ 0.0000000e+00+0.0000000e+00j -3.4033307e-09+3.0810700e-08j\n",
      "  -2.2557689e-04-2.2253296e-05j ... -1.8881414e-02+1.3266639e-02j\n",
      "   9.7229499e-03-1.7430987e-02j  6.1891642e-03+1.4009095e-02j]\n",
      " [ 0.0000000e+00+0.0000000e+00j -2.9199525e-08-6.5728378e-09j\n",
      "   2.8857682e-04-2.2548526e-04j ...  2.4960933e-02+5.5068644e-04j\n",
      "  -2.0199746e-02+2.8124098e-03j  3.6832250e-03-6.6917972e-03j]\n",
      " ...\n",
      " [ 0.0000000e+00+0.0000000e+00j  1.5067410e-08-6.7015469e-09j\n",
      "  -1.2783485e-07+2.8535888e-07j ...  3.5305284e-08+5.5161030e-07j\n",
      "  -4.6920659e-06+2.8079573e-06j  1.1419037e-05-5.6881650e-05j]\n",
      " [ 0.0000000e+00+0.0000000e+00j  3.4616041e-09+1.6285647e-08j\n",
      "   1.7622243e-07-1.9882189e-07j ...  2.1742423e-07-2.9092536e-07j\n",
      "  -1.7251008e-06-5.0447948e-06j -4.4742341e-05+3.6707755e-05j]\n",
      " [ 0.0000000e+00+0.0000000e+00j -1.6702309e-08+0.0000000e+00j\n",
      "  -1.8480704e-07+0.0000000e+00j ... -2.2827017e-07+0.0000000e+00j\n",
      "   5.7443799e-06+0.0000000e+00j  5.7871061e-05+0.0000000e+00j]]\n",
      "<class 'numpy.ndarray'> <class 'numpy.ndarray'> <class 'numpy.ndarray'>\n"
     ]
    }
   ],
   "source": [
    "sample_rate, samples = wavfile.read('BeeAudio1.wav')\n",
    "print(samples)\n",
    "samples_zero = samples[:,0]\n",
    "print(samples_zero,sample_rate)\n",
    "samples_casted = samples_zero.astype(np.float32) / (2.**15)\n",
    "f, t, Zxx = signal.stft(samples_casted, fs = sample_rate, nperseg = 800, noverlap = 480, nfft = 1024)\n",
    "print(f,'\\n', t,'\\n',Zxx)\n",
    "# frequencies, times, spectrogram = signal.spectrogram(samples, sample_rate\n",
    "Zxx_abs = np.abs(Zxx)\n",
    "print(type(f), type(t), type(Zxx))"
   ]
  },
  {
   "cell_type": "code",
   "execution_count": 22,
   "metadata": {},
   "outputs": [
    {
     "name": "stderr",
     "output_type": "stream",
     "text": [
      "/Users/paulliu/anaconda3/lib/python3.6/site-packages/ipykernel_launcher.py:1: RuntimeWarning: divide by zero encountered in log\n",
      "  \"\"\"Entry point for launching an IPython kernel.\n",
      "/Users/paulliu/anaconda3/lib/python3.6/site-packages/matplotlib/colors.py:860: RuntimeWarning: invalid value encountered in subtract\n",
      "  resdat -= vmin\n",
      "/Users/paulliu/anaconda3/lib/python3.6/site-packages/matplotlib/colors.py:861: RuntimeWarning: invalid value encountered in true_divide\n",
      "  resdat /= (vmax - vmin)\n",
      "/Users/paulliu/anaconda3/lib/python3.6/site-packages/matplotlib/colors.py:496: RuntimeWarning: invalid value encountered in less\n",
      "  cbook._putmask(xa, xa < 0.0, -1)\n"
     ]
    },
    {
     "data": {
      "image/png": "[encoded data removed]",
      "text/plain": [
       "<matplotlib.figure.Figure at 0x1c1e336978>"
      ]
     },
     "metadata": {},
     "output_type": "display_data"
    },
    {
     "data": {
      "text/plain": [
       "dtype('float32')"
      ]
     },
     "execution_count": 22,
     "metadata": {},
     "output_type": "execute_result"
    }
   ],
   "source": [
    "Zxx_log = np.log(Zxx_abs)\n",
    "plt.pcolormesh(t, f, Zxx_log,vmin = 0, vmax = 1/2.**15)\n",
    "plt.ylabel('Frequency [Hz]')\n",
    "plt.xlabel('Time [sec]')\n",
    "plt.show()\n",
    "samples_casted.dtype"
   ]
  },
  {
   "cell_type": "code",
   "execution_count": 13,
   "metadata": {},
   "outputs": [
    {
     "name": "stdout",
     "output_type": "stream",
     "text": [
      "(19200000, 2)\n",
      "19200000.0\n",
      "600.0\n"
     ]
    }
   ],
   "source": [
    "samples = samples / (2.**15)\n",
    "sample_shape = samples.shape\n",
    "samplePoints = float(samples.shape[0])\n",
    "# print(samples/(2.**15))\n",
    "print(sample_shape)\n",
    "print(samplePoints)\n",
    "duration = samplePoints/sample_rate\n",
    "print(duration)"
   ]
  },
  {
   "cell_type": "code",
   "execution_count": 40,
   "metadata": {},
   "outputs": [
    {
     "name": "stdout",
     "output_type": "stream",
     "text": [
      "[    0     0     0 ...  -965 -1083 -1327]\n"
     ]
    }
   ],
   "source": [
    "sound_mono = samples[:,0]\n",
    "print(sound_mono)"
   ]
  },
  {
   "cell_type": "code",
   "execution_count": 4,
   "metadata": {},
   "outputs": [
    {
     "name": "stdout",
     "output_type": "stream",
     "text": [
      "(19200000, 2, 3)\n"
     ]
    }
   ],
   "source": [
    "print(Zxx.shape)"
   ]
  },
  {
   "cell_type": "code",
   "execution_count": null,
   "metadata": {
    "collapsed": true
   },
   "outputs": [],
   "source": [
    "from sklearn.decomposition import PCA\n"
   ]
  }
 ],
 "metadata": {
  "kernelspec": {
   "display_name": "Python 3",
   "language": "python",
   "name": "python3"
  },
  "language_info": {
   "codemirror_mode": {
    "name": "ipython",
    "version": 3
   },
   "file_extension": ".py",
   "mimetype": "text/x-python",
   "name": "python",
   "nbconvert_exporter": "python",
   "pygments_lexer": "ipython3",
   "version": "3.6.2"
  }
 },
 "nbformat": 4,
 "nbformat_minor": 2
}
